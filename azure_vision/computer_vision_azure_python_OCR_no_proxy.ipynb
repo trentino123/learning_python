{
 "cells": [
  {
   "cell_type": "markdown",
   "metadata": {},
   "source": [
    "## OCR with AZ Computer Vision API  <a name=\"RecognizeText\"> </a>\n",
    "* [Detect and extract printed text from an image](#OCR)\n",
    "* [Detect and extract handwritten text from an image](#RecognizeText)\n",
    "\n",
    "## Optical character recognition (OCR) with Computer Vision API <a name=\"OCR\"> </a>\n",
    "\n",
    "Use the [Optical Character Recognition (OCR) method](https://westcentralus.dev.cognitive.microsoft.com/docs/services/5adf991815e1060e6355ad44/operations/56f91f2e778daf14a499e1fc) to synchronously detect printed text in an image and extract recognized characters into a machine-usable character stream.\n",
    "\n",
    "To illustrate the OCR API, set `image_path` to point to the text to be recognized."
   ]
  },
  {
   "cell_type": "code",
   "execution_count": 1,
   "metadata": {
    "collapsed": true
   },
   "outputs": [],
   "source": [
    "# IMPORTING THE LIBRARIES\n",
    "import requests\n",
    "%matplotlib inline\n",
    "from PIL import Image\n",
    "import matplotlib.patches as patches\n",
    "from io import BytesIO\n",
    "import matplotlib.pyplot as plt\n",
    "import numpy as np\n",
    "from matplotlib.collections import PatchCollection\n",
    "from matplotlib.patches import Rectangle\n",
    "import time\n",
    "from matplotlib.patches import Polygon\n",
    "\n",
    "# PROXIES IF YOU ARE RUNNING THE JUPYTER NOTEBOOK FROM YOUR LAPTOP\n",
    "proxy = \"http://www.com:8080\"\n",
    "proxys = \"https://www.com:8080\"\n",
    "proxyDict = { \"http\"  : proxy, \"https\"  : proxys }"
   ]
  },
  {
   "cell_type": "code",
   "execution_count": null,
   "metadata": {
    "collapsed": true
   },
   "outputs": [],
   "source": [
    "subscription_key = ''\n",
    "assert subscription_key\n",
    "\n",
    "image_path = \"FT_OCR2.PNG\"\n"
   ]
  },
  {
   "cell_type": "code",
   "execution_count": null,
   "metadata": {},
   "outputs": [],
   "source": [
    "vision_base_url = \"https://PYTHONCOMPUTERVISION.cognitiveservices.azure.com/vision/v1.0/\"\n",
    "ocr_url = vision_base_url + \"ocr\"\n",
    "print(ocr_url)\n",
    "\n",
    "image_data = open(image_path, \"rb\").read()\n",
    "headers    = {'Ocp-Apim-Subscription-Key': subscription_key, \n",
    "              \"Content-Type\": \"application/octet-stream\" }\n",
    "#params   = {'mode' : 'Handwritten'}\n",
    "params   = {'language': 'unk', 'detectOrientation ': 'true'}\n",
    "#data     = {'url': image_url}\n",
    "response = requests.post(ocr_url, headers=headers, params=params, data=image_data ) #, proxies=proxyDict)\n",
    "response.raise_for_status()\n",
    "analysis = response.json()"
   ]
  },
  {
   "cell_type": "markdown",
   "metadata": {},
   "source": [
    "Scanning the whole page"
   ]
  },
  {
   "cell_type": "code",
   "execution_count": null,
   "metadata": {},
   "outputs": [],
   "source": [
    "\n",
    "line_infos = [region[\"lines\"] for region in analysis[\"regions\"]]\n",
    "word_infos = []\n",
    "for line in line_infos:\n",
    "    for word_metadata in line:\n",
    "        for word_info in word_metadata[\"words\"]:\n",
    "            word_infos.append(word_info)\n",
    "word_infos\n",
    "\n",
    "# PLOTTING RECTANGLES ON RECOGNIZED TEXT\n",
    "\n",
    "plt.figure(figsize=(25,25))\n",
    "\n",
    "image  = Image.open(image_path)\n",
    "ax     = plt.imshow(image, alpha=0.5)\n",
    "for word in word_infos:\n",
    "    bbox = [int(num) for num in word[\"boundingBox\"].split(\",\")]\n",
    "    text = word[\"text\"]\n",
    "    origin = (bbox[0], bbox[1])\n",
    "    patch  = Rectangle(origin, bbox[2], bbox[3], fill=False, linewidth=2, color='y')\n",
    "    ax.axes.add_patch(patch)\n",
    "    plt.text(origin[0], origin[1], text, fontsize=10, weight=\"bold\", va=\"top\")\n",
    "_ = plt.axis(\"off\")"
   ]
  },
  {
   "cell_type": "code",
   "execution_count": null,
   "metadata": {
    "collapsed": true
   },
   "outputs": [],
   "source": [
    "#FUTURE PANDAS PARSING\n",
    "#import pandas as pd\n",
    "#from pandas.io.json import json_normalize\n",
    "#pd.set_option('display.max_colwidth', -1)\n",
    "#df = pd.DataFrame(analysis)\n",
    "#df2 = pd.DataFrame.from_dict(json_normalize(df['regions']), orient='columns')\n",
    "#df2"
   ]
  },
  {
   "cell_type": "markdown",
   "metadata": {},
   "source": [
    "function for field extraction"
   ]
  },
  {
   "cell_type": "code",
   "execution_count": null,
   "metadata": {
    "collapsed": true,
    "scrolled": false
   },
   "outputs": [],
   "source": [
    "# THIS FUNCTION WILL FIND TEXT AFTER AND TAG VIA RETANGLE\n",
    "def print_text_box(line_infos,searched_text,regex_extraction):\n",
    "    import re\n",
    "    boundingBox = ''\n",
    "    word_infos_found = []\n",
    "    for line in line_infos:\n",
    "        for word_metadata in line:\n",
    "            for word_info in word_metadata[\"words\"]:\n",
    "                if searched_text in word_info['text'] :\n",
    "                    boundingBox = word_info['boundingBox']  \n",
    "                    #print (word_info)\n",
    "                    x1s,y1s,x2s,y2s = int(boundingBox.split(',')[0]) , int(boundingBox.split(',')[1]), int(boundingBox.split(',')[2]) ,int(boundingBox.split(',')[3])\n",
    "\n",
    "    abs_avg = y1s + int(y2s/2) \n",
    "    #print (\"Searching in height:\",x1s,y1s,x2s,y2s,\"AVG\",abs_avg )\n",
    "    \n",
    "    word_infos_found = []\n",
    "    \n",
    "    for line in line_infos:\n",
    "        for word_metadata in line:\n",
    "            for word_info in word_metadata[\"words\"]:\n",
    "                actual_bb = word_info['boundingBox']\n",
    "                x1,y1,x2,y2 = int(actual_bb.split(',')[0]) , int(actual_bb.split(',')[1]), int(actual_bb.split(',')[2]) ,int(actual_bb.split(',')[3])\n",
    "                 #int (abs( int(y1s) - int(y2s)) / 2 + int(min(y1s,y2s)))\n",
    "                if ( y1 < int(abs_avg) and ( y1 + y2 ) > int(abs_avg)  ):\n",
    "                    #print (x1s,y1s,x2s,y2s,\"-->\",abs_avg,\"----->\",word_info)\n",
    "                    word_infos_found.append(word_info)\n",
    "    \n",
    "    word_infos_found_sorted = sorted(word_infos_found, key=lambda k: int(k['boundingBox'].split(',')[0])) \n",
    "    #for word_info in word_metadata[\"words\"]:\n",
    "    total_line = \"\"\n",
    "    for item in word_infos_found_sorted:\n",
    "        total_line = total_line + ' ' + item['text']\n",
    "    print (\"line:\",total_line)\n",
    "    p = re.compile(regex_extraction)\n",
    "    result = p.search(total_line)\n",
    "    print(\"field value:\",result.group(1) )\n",
    "    \n",
    "    return word_infos_found,result.group(1)\n",
    "\n"
   ]
  },
  {
   "cell_type": "markdown",
   "metadata": {},
   "source": [
    "Doing a rectangle on the field extracted"
   ]
  },
  {
   "cell_type": "code",
   "execution_count": null,
   "metadata": {},
   "outputs": [],
   "source": [
    "word_infos_found = []\n",
    "\n",
    "text2search = 'Equipment'\n",
    "regex_for_text = \"Equipment ID ..(........)\"\n",
    "\n",
    "word_infos_found,field_value_found = print_text_box(line_infos,text2search,regex_for_text)      \n",
    "\n",
    "print (\"Anchor text:\",text2search,\"|Regex for extraction\",regex_for_text)\n",
    "print (\"Field value extracted:\",field_value_found)\n",
    "                \n",
    "# PLOTTING RECTANGLES ON RECOGNIZED TEXT SEARCHED\n",
    "plt.figure(figsize=(25,25))\n",
    "\n",
    "image  = Image.open(image_path)\n",
    "ax     = plt.imshow(image, alpha=0.5)\n",
    "for word in word_infos_found:\n",
    "    bbox = [int(num) for num in word[\"boundingBox\"].split(\",\")]\n",
    "    text = word[\"text\"]\n",
    "    if field_value_found in text:\n",
    "        origin = (bbox[0], bbox[1])\n",
    "        patch  = Rectangle(origin, bbox[2], bbox[3], fill=False, linewidth=2, color='r')\n",
    "    else:\n",
    "        origin = (bbox[0], bbox[1])\n",
    "        patch  = Rectangle(origin, bbox[2], bbox[3], fill=False, linewidth=2, color='y')\n",
    "    ax.axes.add_patch(patch)\n",
    "    plt.text(origin[0], origin[1], text, fontsize=10, weight=\"bold\", va=\"top\")\n",
    "_ = plt.axis(\"off\")\n",
    "\n"
   ]
  }
 ],
 "metadata": {
  "kernelspec": {
   "display_name": "Python 3",
   "language": "python",
   "name": "python3"
  },
  "language_info": {
   "codemirror_mode": {
    "name": "ipython",
    "version": 3
   },
   "file_extension": ".py",
   "mimetype": "text/x-python",
   "name": "python",
   "nbconvert_exporter": "python",
   "pygments_lexer": "ipython3",
   "version": "3.6.3"
  },
  "ms_docs_meta": {
   "author": "JuliaNik",
   "description": "Get information and code samples to help you quickly get started using Python and the Computer Vision API in Microsoft Cognitive Services.",
   "manager": "ytkuo",
   "ms.author": "juliakuz",
   "ms.date": "02/02/2018",
   "ms.service": "cognitive-services",
   "ms.technology": "computer-vision",
   "ms.topic": "article",
   "services": "cognitive-services",
   "title": "Computer Vision API Python quick start | Microsoft Docs",
   "titleSuffix": "Computer Vision API Python quick start | Microsoft Cognitive Services"
  }
 },
 "nbformat": 4,
 "nbformat_minor": 2
}
