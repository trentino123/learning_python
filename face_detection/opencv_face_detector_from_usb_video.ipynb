{
 "cells": [
  {
   "cell_type": "markdown",
   "metadata": {},
   "source": [
    "Example to show detect faces using a usb camera. Printing probability during each detection and also aprox fps."
   ]
  },
  {
   "cell_type": "code",
   "execution_count": 1,
   "metadata": {
    "collapsed": true
   },
   "outputs": [],
   "source": [
    "from matplotlib import pyplot as plt\n",
    "import numpy as np\n",
    "import cv2\n",
    "import time\n",
    "\n",
    "%matplotlib inline \n",
    "\n",
    "#image = cv2.imread('friends..JPG')\n",
    "\n",
    "def take_photo():\n",
    "    \n",
    "    video_capture = cv2.VideoCapture(0)\n",
    "    # Check success\n",
    "    if not video_capture.isOpened():\n",
    "        raise Exception(\"Could not open video device\")\n",
    "    # Read picture. ret === True on success\n",
    "    ret, frame = video_capture.read()\n",
    "    # Close device\n",
    "    video_capture.release()\n",
    "\n",
    "    return frame\n",
    "\n",
    "import time\n",
    "\n",
    "def detect_and_show_image():\n",
    "    cam = cv2.VideoCapture(0)\n",
    "\n",
    "    cv2.namedWindow(\"test\")\n",
    "\n",
    "    img_counter = 0\n",
    "\n",
    "    while True:\n",
    "        start = time.time()\n",
    "        ret, frame = cam.read()\n",
    "        frame2 = detect_face(frame,start)\n",
    "        cv2.imshow(\"test\", frame2)\n",
    "        \n",
    "        if not ret:\n",
    "            break\n",
    "        k = cv2.waitKey(1)\n",
    "\n",
    "        if k%256 == 27:\n",
    "            # ESC pressed\n",
    "            print(\"Escape hit, closing...\")\n",
    "            break\n",
    "        elif k%256 == 32:\n",
    "            # SPACE pressed\n",
    "            img_name = \"opencv_frame_{}.png\".format(img_counter)\n",
    "            cv2.imwrite(img_name, frame)\n",
    "            print(\"{} written!\".format(img_name))\n",
    "            img_counter += 1\n",
    "\n",
    "    cam.release()\n",
    "\n",
    "    cv2.destroyAllWindows()\n",
    "    \n",
    "\n",
    "def detect_face(image,start):\n",
    "    proto = 'deploy.prototxt'\n",
    "    model = 'res10_300x300_ssd_iter_140000.caffemodel'\n",
    "\n",
    "    net = cv2.dnn.readNetFromCaffe(proto, model)\n",
    "\n",
    "    blob = cv2.dnn.blobFromImage(cv2.resize(image, (300, 300)), 1.0,(300, 300), (104.0, 177.0, 123.0))\n",
    " \n",
    "    net.setInput(blob)\n",
    "    detections = net.forward()\n",
    "    # loop over the detections\n",
    "    (h, w) = image.shape[:2]\n",
    "    for i in range(0, detections.shape[2]):\n",
    "        # extract the confidence (i.e., probability) associated with the\n",
    "        # prediction\n",
    "        confidence = detections[0, 0, i, 2]\n",
    " \n",
    "        # filter out weak detections by ensuring the `confidence` is\n",
    "        # greater than the minimum confidence\n",
    "        if confidence > 0.5:\n",
    "            # compute the (x, y)-coordinates of the bounding box for the\n",
    "            # object\n",
    "            box = detections[0, 0, i, 3:7] * np.array([w, h, w, h])\n",
    "            (startX, startY, endX, endY) = box.astype(\"int\")\n",
    " \n",
    "            # draw the bounding box of the face along with the associated\n",
    "            # probability\n",
    "            text = \"{:.2f}%\".format(confidence * 100)\n",
    "            print (\"face detected, probability: \",text)\n",
    "            y = startY - 10 if startY - 10 > 10 else startY + 10\n",
    "            cv2.rectangle(image, (startX, startY), (endX, endY),\n",
    "                (0, 0, 255), 2)\n",
    "            fps = 1 / ( time.time() - start )\n",
    "            print(\"fps:\",fps)\n",
    "            cv2.putText(image, text, (startX, y),\n",
    "                cv2.FONT_HERSHEY_SIMPLEX, 0.45, (0, 0, 255), 2)\n",
    " \n",
    "    # show the output image\n",
    "    #cv2.imshow(\"Output\", image)\n",
    "    return image\n",
    "    #plt.imshow(image[:,:,::-1])    \n"
   ]
  },
  {
   "cell_type": "code",
   "execution_count": null,
   "metadata": {},
   "outputs": [
    {
     "name": "stdout",
     "output_type": "stream",
     "text": [
      "face detected, probability:  65.40%\n",
      "fps: 2.260179906764906\n",
      "face detected, probability:  69.92%\n",
      "fps: 2.2859846162314943\n",
      "face detected, probability:  63.09%\n",
      "fps: 2.7545538130138967\n",
      "face detected, probability:  98.65%\n",
      "fps: 5.905765236797826\n",
      "face detected, probability:  98.34%\n",
      "fps: 4.985106380449911\n",
      "face detected, probability:  99.00%\n",
      "fps: 4.993070444332014\n",
      "face detected, probability:  86.65%\n",
      "fps: 5.143255147787359\n",
      "face detected, probability:  57.86%\n",
      "fps: 5.431474368769602\n"
     ]
    }
   ],
   "source": [
    "detect_and_show_image()"
   ]
  },
  {
   "cell_type": "code",
   "execution_count": null,
   "metadata": {
    "collapsed": true
   },
   "outputs": [],
   "source": []
  }
 ],
 "metadata": {
  "kernelspec": {
   "display_name": "Python 3",
   "language": "python",
   "name": "python3"
  },
  "language_info": {
   "codemirror_mode": {
    "name": "ipython",
    "version": 3
   },
   "file_extension": ".py",
   "mimetype": "text/x-python",
   "name": "python",
   "nbconvert_exporter": "python",
   "pygments_lexer": "ipython3",
   "version": "3.6.3"
  }
 },
 "nbformat": 4,
 "nbformat_minor": 2
}
