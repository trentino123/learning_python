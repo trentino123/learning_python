{
 "cells": [
  {
   "cell_type": "markdown",
   "metadata": {},
   "source": [
    "## EXAMPLE ON HOW TO CONVERT THE FIRST OR ANY PAGE OF A PDF TO AN IMAGE.\n",
    "### Then this image can have a ROI ( 50% of the page from top to bottom for example )"
   ]
  },
  {
   "cell_type": "code",
   "execution_count": null,
   "metadata": {
    "collapsed": true
   },
   "outputs": [],
   "source": [
    "def convert_pdf_to_image(pdf_path,image_path,page_number=0,y0=0,y1=0,x0=100,x1=100):\n",
    "    import cv2\n",
    "    import fitz\n",
    "    import numpy as np\n",
    "\n",
    "    doc = fitz.open(pdf_path)\n",
    "    page = doc.loadPage(page_number) #number of page\n",
    "    ## increasing accuracy\n",
    "    zoom = 2    # zoom factor\n",
    "    mat = fitz.Matrix(zoom, zoom)\n",
    "    pix = page.getPixmap(matrix = mat)\n",
    "    #pix = page.getPixmap()\n",
    "    pix.writePNG(image_path)\n",
    "    #import image \n",
    "    image = cv2.imread(image_path)\n",
    "    width, height = image.shape[:2]\n",
    "    print (\"pixel W,H:\",width, height)\n",
    "    print (\"pixel ROI:\", int(x0*width/100),int(x1*width/100), int(y0*height/100),int(y1*height/100))\n",
    "    roi = image[int(x0*width/100):int(x1*width/100), int(y0*height/100):int(y1*height/100)]\n",
    "    cv2.imwrite('cv2' + image_path, roi)"
   ]
  },
  {
   "cell_type": "code",
   "execution_count": 45,
   "metadata": {},
   "outputs": [
    {
     "name": "stdout",
     "output_type": "stream",
     "text": [
      "pixel W,H: 1685 1191\n",
      "pixel ROI: 0 337 0 1191\n"
     ]
    }
   ],
   "source": [
    "pdffile = \"DIEXT-I5LEU.pdf\"\n",
    "pdfresult = \"DIEXT-I5LEU.png\"\n",
    "convert_pdf_to_image(pdffile,pdfresult,0,0,100,0,20)"
   ]
  },
  {
   "cell_type": "code",
   "execution_count": null,
   "metadata": {
    "collapsed": true
   },
   "outputs": [],
   "source": []
  }
 ],
 "metadata": {
  "kernelspec": {
   "display_name": "Python 3",
   "language": "python",
   "name": "python3"
  },
  "language_info": {
   "codemirror_mode": {
    "name": "ipython",
    "version": 3
   },
   "file_extension": ".py",
   "mimetype": "text/x-python",
   "name": "python",
   "nbconvert_exporter": "python",
   "pygments_lexer": "ipython3",
   "version": "3.6.3"
  }
 },
 "nbformat": 4,
 "nbformat_minor": 2
}
