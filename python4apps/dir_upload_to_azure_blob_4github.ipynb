{
 "cells": [
  {
   "cell_type": "code",
   "execution_count": 9,
   "metadata": {
    "collapsed": true
   },
   "outputs": [],
   "source": [
    "import json\n",
    "import jinja2\n",
    "#import queue\n",
    "import time\n",
    "from flask import Flask, request, Response, Request, render_template, send_from_directory,flash, request, redirect, url_for\n",
    "import werkzeug\n",
    "from werkzeug.utils import secure_filename\n",
    "import os, uuid, sys\n",
    "from azure.storage.blob import BlockBlobService, PublicAccess\n",
    "import requests\n"
   ]
  },
  {
   "cell_type": "markdown",
   "metadata": {},
   "source": [
    "# EXAMPLES TO UPLOAD LOCAL DIR FILES TO AN AZURE BLOB AND TO READ A BLOB(FILE) FROM AZURE AND COPY IT TO A LOCAL DIR"
   ]
  },
  {
   "cell_type": "code",
   "execution_count": 13,
   "metadata": {
    "collapsed": true
   },
   "outputs": [],
   "source": [
    "BLOB_CONTAINER_NAME = 'formtest' \n",
    "BLOB_SAS = r\"https://formtest.blob.core.windows.net/luchotest?sp=racwdl&st=2019-10-29T20:37:42Z&se=2019-11-30T20:37:00Z&sv=2019-02-02&sr=c&sig=%3D\"\n",
    "os.environ['http_proxy'] = \"http://fillyourproxy.com:8080\" \n",
    "os.environ['https_proxy'] = \"https://fillyourproxy.com:8080\" \n",
    "ACCOUNT_NAME = 'formstest'\n",
    "ACCOUNT_KEY = 'hnsNH1dfsdfak;sdflkasdf;lB+4T6CqvMNIOjgsBpYaEsJzm/asdflasd;flkasd;f=='\n",
    "\n",
    "LOCAL_UPLOAD_FOLDER = 'forms/'"
   ]
  },
  {
   "cell_type": "code",
   "execution_count": 22,
   "metadata": {
    "collapsed": true
   },
   "outputs": [],
   "source": [
    "def upload_files_to_blob(local_dir,timestamp,account_name,account_key,blob_container_name):\n",
    "    # Create the BlockBlockService that the system uses to call the Blob service for the storage account.\n",
    "    block_blob_service = BlockBlobService(\n",
    "        account_name, account_key)\n",
    "    # Create a container called 'quickstartblobs'.\n",
    "    container_name = blob_container_name \n",
    "\n",
    "    block_blob_service.create_container(container_name)\n",
    "    for file in os.listdir(local_dir):\n",
    "        full_path = local_dir +  file\n",
    "        print('Uploading file to blob:',file)\n",
    "        #block_blob_service.create_blob_from_path(container_name, 'dir2\\\\' + file, full_path)\n",
    "        if str(timestamp) in str(file):\n",
    "            block_blob_service.create_blob_from_path(container_name, timestamp + '\\\\' + file, full_path)\n",
    "    # Set the permission so the blobs are public.\n",
    "    block_blob_service.set_container_acl(\n",
    "        container_name, public_access=PublicAccess.Container)\n"
   ]
  },
  {
   "cell_type": "code",
   "execution_count": 23,
   "metadata": {},
   "outputs": [
    {
     "name": "stdout",
     "output_type": "stream",
     "text": [
      "Uploading file to blob: outfromblob_Vendor Creation Form - 1.pdf\n",
      "Uploading file to blob: Vendor Creation Form - 1.pdf\n",
      "Uploading file to blob: Vendor Creation Form - 2.pdf\n",
      "Uploading file to blob: Vendor Creation Form - empty.pdf\n",
      "Uploading file to blob: Vendor Creation Form - TEST.pdf\n"
     ]
    }
   ],
   "source": [
    "upload_files_to_blob(LOCAL_UPLOAD_FOLDER,'pizza',ACCOUNT_NAME,ACCOUNT_KEY,BLOB_CONTAINER_NAME)"
   ]
  },
  {
   "cell_type": "code",
   "execution_count": 20,
   "metadata": {
    "collapsed": true
   },
   "outputs": [],
   "source": [
    "def return_file_from_blob(local_dir,blob_name,account_name,account_key,blob_container_name):\n",
    "    # Create the BlockBlockService that the system uses to call the Blob service for the storage account.\n",
    "    block_blob_service = BlockBlobService( account_name, account_key)\n",
    "    # Create a container called 'quickstartblobs'.\n",
    "    block_blob_service.get_blob_to_path(blob_container_name, blob_name, local_dir + 'outfromblob_' + blob_name)\n",
    "    print(blob_name,'downloaded from blob')\n"
   ]
  },
  {
   "cell_type": "code",
   "execution_count": 25,
   "metadata": {},
   "outputs": [
    {
     "name": "stdout",
     "output_type": "stream",
     "text": [
      "Vendor Creation Form - 1.pdf downloaded from blob\n"
     ]
    }
   ],
   "source": [
    "return_file_from_blob(LOCAL_UPLOAD_FOLDER,'Vendor Creation Form - 1.pdf',ACCOUNT_NAME,ACCOUNT_KEY,BLOB_CONTAINER_NAME)"
   ]
  },
  {
   "cell_type": "code",
   "execution_count": null,
   "metadata": {
    "collapsed": true
   },
   "outputs": [],
   "source": []
  }
 ],
 "metadata": {
  "kernelspec": {
   "display_name": "Python 3",
   "language": "python",
   "name": "python3"
  },
  "language_info": {
   "codemirror_mode": {
    "name": "ipython",
    "version": 3
   },
   "file_extension": ".py",
   "mimetype": "text/x-python",
   "name": "python",
   "nbconvert_exporter": "python",
   "pygments_lexer": "ipython3",
   "version": "3.6.3"
  }
 },
 "nbformat": 4,
 "nbformat_minor": 2
}
