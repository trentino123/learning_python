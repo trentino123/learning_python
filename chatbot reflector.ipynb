{
 "cells": [
  {
   "cell_type": "code",
   "execution_count": null,
   "metadata": {
    "collapsed": true
   },
   "outputs": [],
   "source": [
    "from nltk.chat.util import Chat, reflections\n",
    "pairs = [\n",
    "        [\n",
    "            r\"my name is (.*)\",\n",
    "            [\"Hello %1, How are you today ?\",]\n",
    "        ],\n",
    "         [\n",
    "            r\"what is your name ?\",\n",
    "            [\"My name is Chatterbox and I'm a chatbot ?\",]\n",
    "        ],\n",
    "        [\n",
    "            r\"how are you ?\",\n",
    "            [\"I'm good\\nHow about You ?\",]\n",
    "        ],\n",
    "        [\n",
    "            r\"sorry (.*)\",\n",
    "            [\"Its alright\",\"Its OK, never mind\",]\n",
    "        ],\n",
    "        [\n",
    "            r\"i'm (.*) doing good\",\n",
    "            [\"Nice to hear that\",\"Alright :)\",]\n",
    "        ],\n",
    "        [\n",
    "            r\"hi|hey|hello\",\n",
    "            [\"Hello\", \"Hey there\",]\n",
    "        ],\n",
    "        [\n",
    "            r\"(.*) age?\",\n",
    "            [\"You are kidding me!\\nI'm a computer program buddy\\nSeriously you are asking me this?\",]\n",
    "            \n",
    "        ],\n",
    "        [\n",
    "            r\"what (.*) want ?\",\n",
    "            [\"Make me an offer I can't refuse\",]\n",
    "            \n",
    "        ],\n",
    "        [\n",
    "            r\"(.*) created ?\",\n",
    "            [\"Hari created me using Python's NLTK library \",\"top secret ;)\",]\n",
    "        ],\n",
    "        [\n",
    "            r\"(.*) (location|city) ?\",\n",
    "            ['Buenos Aires, Argentina',]\n",
    "        ],\n",
    "        [\n",
    "            r\"(.*) weather (.*)?\",\n",
    "            [\"Weather in %1 is awesome like always\",\"Too hot man here in %1\",\"Too cold man here in %1\",\"Never even heard about %1\"]\n",
    "        ],\n",
    "        [\n",
    "            r\"i work in (.*)?\",\n",
    "            [\"%1 is an Amazing company, I have heard about it. But they are in huge loss these days.\",]\n",
    "        ],\n",
    "    [\n",
    "            r\"(.*)raining in (.*)\",\n",
    "            [\"No rain since last week here in %2\",\"Damn its raining too much here in %2\"]\n",
    "        ],\n",
    "        [\n",
    "            r\"how (.*) health(.*)\",\n",
    "            [\"I'm a computer program, so I'm always healthy \",]\n",
    "        ],\n",
    "        [\n",
    "            r\"(.*) (sports|game) ?\",\n",
    "            [\"I'm a very big fan of Football\",]\n",
    "        ],\n",
    "        [\n",
    "            r\"who (.*) sportsperson ?\",\n",
    "            [\"Messy\",\"Ronaldo\",\"Roony\"]\n",
    "    ],\n",
    "        [\n",
    "            r\"who (.*) (moviestar|actor)?\",\n",
    "            [\"Brad Pitt\"]\n",
    "    ],\n",
    "        [\n",
    "            r\"quit\",\n",
    "            [\"BBye take care. See you soon  \",\"It was nice talking to you. See you soon :)\"]\n",
    "    ],\n",
    "    ]\n",
    "    \n",
    "\n"
   ]
  },
  {
   "cell_type": "code",
   "execution_count": null,
   "metadata": {},
   "outputs": [],
   "source": [
    "def chatterbox():\n",
    "    print(\"Hi, I'm Chatterbox and I chat alot ;)\\nPlease type lowercase English language to start a conversation. Type quit to leave \") #default message at the start\n",
    "    chat = Chat(pairs, reflections)\n",
    "    chat.converse()\n",
    "if __name__ == \"__main__\":\n",
    "    chatterbox()"
   ]
  },
  {
   "cell_type": "code",
   "execution_count": null,
   "metadata": {
    "collapsed": true
   },
   "outputs": [],
   "source": []
  }
 ],
 "metadata": {
  "kernelspec": {
   "display_name": "Python 3",
   "language": "python",
   "name": "python3"
  },
  "language_info": {
   "codemirror_mode": {
    "name": "ipython",
    "version": 3
   },
   "file_extension": ".py",
   "mimetype": "text/x-python",
   "name": "python",
   "nbconvert_exporter": "python",
   "pygments_lexer": "ipython3",
   "version": "3.6.3"
  }
 },
 "nbformat": 4,
 "nbformat_minor": 2
}
