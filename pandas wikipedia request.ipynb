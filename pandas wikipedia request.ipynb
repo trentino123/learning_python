{
 "cells": [
  {
   "cell_type": "code",
   "execution_count": 1,
   "metadata": {},
   "outputs": [],
   "source": [
    "import pandas as pd\n",
    "import requests\n",
    "pd.set_option('display.max_colwidth', -1) # do not cut the output on a column"
   ]
  },
  {
   "cell_type": "code",
   "execution_count": 2,
   "metadata": {},
   "outputs": [
    {
     "data": {
      "text/plain": [
       "'{\"batchcomplete\":\"\",\"warnings\":{\"extracts\":{\"*\":\"HTML may be malformed and/or unbalanced and may omit inline images. Use at your own risk. Known problems are listed at https://www.mediawiki.org/wiki/Extension:TextExtracts#Caveats.\"}},\"query\":{\"normalized\":[{\"from\":\"Johann_Sebastian_Bach\",\"to\":\"Johann Sebastian Bach\"}],\"pages\":{\"9906294\":{\"pageid\":9906294,\"ns\":0,\"title\":\"Johann Sebastian Bach\",\"extract\":\"<p class=\\\\\"mw-empty-elt\\\\\">\\\\n\\\\n\\\\n</p>\\\\n<p><b>Johann Sebastian Bach</b> (31 March\\\\u00a0[O.S. 21 March]\\\\u00a01685\\\\u00a0\\\\u2013 28 July 1750) was a German composer and musician of the Baroque period. He is known for instrumental compositions such as the <i>Art of Fugue</i>, the <i>Brandenburg Concertos</i>, and the <i>Goldberg Variations</i> as well as for vocal music such as the <i>St\\\\u00a0Matthew Passion</i> and the Mass in B\\\\u00a0minor. Since the 19th-century Bach Revival he has been generally regarded as one of the greatest composers of all time.</p><p>The Bach family already counted several composers when Johann Sebastian was born as the last child of a city musician in Eisenach. After becoming an orphan at age 10, he lived for five years with his eldest brother Johann Christoph Bach, after which he continued his musical development in L\\\\u00fcneburg. From 1703 he was back in Thuringia, working as a musician for Protestant churches in Arnstadt and M\\\\u00fchlhausen and, for longer stretches of time, at courts in Weimar\\\\u2014where he expanded his repertoire for the organ\\\\u2014and K\\\\u00f6then\\\\u2014where he was mostly engaged with chamber music. From 1723 he was employed as Thomaskantor (cantor at St.\\\\u00a0Thomas) in Leipzig. He composed music for the principal Lutheran churches of the city, and for its university\\'s student ensemble Collegium Musicum. From 1726 he published some of his keyboard and organ music. In Leipzig, as had happened in some of his earlier positions, he had a difficult relation with his employer, a situation that was little remedied when he was granted the title of court composer by King Augustus III of Poland in 1736. In the last decades of his life he reworked and extended many of his earlier compositions. He died of complications after eye surgery in 1750.\\\\n</p><p>Bach enriched established German styles through his mastery of counterpoint, harmonic and motivic organisation, and his adaptation of rhythms, forms, and textures from abroad, particularly from Italy and France. Bach\\'s compositions include hundreds of cantatas, both sacred and secular. He composed Latin church music, Passions, oratorios, and motets. He often adopted Lutheran hymns, not only in his larger vocal works, but for instance also in his four-part chorales and his sacred songs. He wrote extensively for organ and for other keyboard instruments. He composed concertos, for instance for violin and for harpsichord, and suites, as chamber music as well as for orchestra. Many of his works employ the genres of canon and fugue.\\\\n</p><p>Throughout the 18th century Bach was mostly renowned as an organist, while his keyboard music, such as <i>The Well-Tempered Clavier</i>, was appreciated for its didactic qualities. The 19th century saw the publication of some major Bach biographies, and by the end of that century all of his known music had been printed. Dissemination of scholarship on the composer continued through periodicals and websites exclusively devoted to him, and other publications such as the <i>Bach-Werke-Verzeichnis</i> (BWV, a numbered catalogue of his works) and new critical editions of his compositions. His music was further popularised through a multitude of arrangements, including for instance the <i>Air on the G String</i>, and of recordings, for instance three different box sets with complete performances of the composer\\'s works marking the 250th anniversary of his death.\\\\n</p>\"}}}}'"
      ]
     },
     "execution_count": 2,
     "metadata": {},
     "output_type": "execute_result"
    }
   ],
   "source": [
    "headers = {'User-Agent': 'Mozilla/5.0 (Macintosh; Intel Mac OS X 10_10_1) AppleWebKit/537.36 (KHTML, like Gecko) Chrome/39.0.2171.95 Safari/537.36'}\n",
    "url = \"https://en.wikipedia.org/w/api.php?action=query&prop=extracts&format=json&exintro=&titles=Johann_Sebastian_Bach\"\n",
    "r = requests.get(url,headers=headers)\n",
    "r.text"
   ]
  },
  {
   "cell_type": "code",
   "execution_count": 3,
   "metadata": {},
   "outputs": [
    {
     "data": {
      "text/html": [
       "<div>\n",
       "<style scoped>\n",
       "    .dataframe tbody tr th:only-of-type {\n",
       "        vertical-align: middle;\n",
       "    }\n",
       "\n",
       "    .dataframe tbody tr th {\n",
       "        vertical-align: top;\n",
       "    }\n",
       "\n",
       "    .dataframe thead th {\n",
       "        text-align: right;\n",
       "    }\n",
       "</style>\n",
       "<table border=\"1\" class=\"dataframe\">\n",
       "  <thead>\n",
       "    <tr style=\"text-align: right;\">\n",
       "      <th></th>\n",
       "      <th>batchcomplete</th>\n",
       "      <th>warnings</th>\n",
       "      <th>query</th>\n",
       "    </tr>\n",
       "  </thead>\n",
       "  <tbody>\n",
       "    <tr>\n",
       "      <th>extracts</th>\n",
       "      <td></td>\n",
       "      <td>{'*': 'HTML may be malformed and/or unbalanced...</td>\n",
       "      <td>NaN</td>\n",
       "    </tr>\n",
       "    <tr>\n",
       "      <th>normalized</th>\n",
       "      <td></td>\n",
       "      <td>NaN</td>\n",
       "      <td>[{'from': 'Johann_Sebastian_Bach', 'to': 'Joha...</td>\n",
       "    </tr>\n",
       "    <tr>\n",
       "      <th>pages</th>\n",
       "      <td></td>\n",
       "      <td>NaN</td>\n",
       "      <td>{'9906294': {'pageid': 9906294, 'ns': 0, 'titl...</td>\n",
       "    </tr>\n",
       "  </tbody>\n",
       "</table>\n",
       "</div>"
      ],
      "text/plain": [
       "           batchcomplete                                           warnings  \\\n",
       "extracts                  {'*': 'HTML may be malformed and/or unbalanced...   \n",
       "normalized                                                              NaN   \n",
       "pages                                                                   NaN   \n",
       "\n",
       "                                                        query  \n",
       "extracts                                                  NaN  \n",
       "normalized  [{'from': 'Johann_Sebastian_Bach', 'to': 'Joha...  \n",
       "pages       {'9906294': {'pageid': 9906294, 'ns': 0, 'titl...  "
      ]
     },
     "execution_count": 3,
     "metadata": {},
     "output_type": "execute_result"
    }
   ],
   "source": [
    "df = pd.read_json(r.text)\n",
    "df"
   ]
  },
  {
   "cell_type": "code",
   "execution_count": 7,
   "metadata": {},
   "outputs": [
    {
     "data": {
      "text/plain": [
       "{'9906294': {'pageid': 9906294,\n",
       "  'ns': 0,\n",
       "  'title': 'Johann Sebastian Bach',\n",
       "  'extract': '<p class=\"mw-empty-elt\">\\n\\n\\n</p>\\n<p><b>Johann Sebastian Bach</b> (31 March\\xa0[O.S. 21 March]\\xa01685\\xa0– 28 July 1750) was a German composer and musician of the Baroque period. He is known for instrumental compositions such as the <i>Art of Fugue</i>, the <i>Brandenburg Concertos</i>, and the <i>Goldberg Variations</i> as well as for vocal music such as the <i>St\\xa0Matthew Passion</i> and the Mass in B\\xa0minor. Since the 19th-century Bach Revival he has been generally regarded as one of the greatest composers of all time.</p><p>The Bach family already counted several composers when Johann Sebastian was born as the last child of a city musician in Eisenach. After becoming an orphan at age 10, he lived for five years with his eldest brother Johann Christoph Bach, after which he continued his musical development in Lüneburg. From 1703 he was back in Thuringia, working as a musician for Protestant churches in Arnstadt and Mühlhausen and, for longer stretches of time, at courts in Weimar—where he expanded his repertoire for the organ—and Köthen—where he was mostly engaged with chamber music. From 1723 he was employed as Thomaskantor (cantor at St.\\xa0Thomas) in Leipzig. He composed music for the principal Lutheran churches of the city, and for its university\\'s student ensemble Collegium Musicum. From 1726 he published some of his keyboard and organ music. In Leipzig, as had happened in some of his earlier positions, he had a difficult relation with his employer, a situation that was little remedied when he was granted the title of court composer by King Augustus III of Poland in 1736. In the last decades of his life he reworked and extended many of his earlier compositions. He died of complications after eye surgery in 1750.\\n</p><p>Bach enriched established German styles through his mastery of counterpoint, harmonic and motivic organisation, and his adaptation of rhythms, forms, and textures from abroad, particularly from Italy and France. Bach\\'s compositions include hundreds of cantatas, both sacred and secular. He composed Latin church music, Passions, oratorios, and motets. He often adopted Lutheran hymns, not only in his larger vocal works, but for instance also in his four-part chorales and his sacred songs. He wrote extensively for organ and for other keyboard instruments. He composed concertos, for instance for violin and for harpsichord, and suites, as chamber music as well as for orchestra. Many of his works employ the genres of canon and fugue.\\n</p><p>Throughout the 18th century Bach was mostly renowned as an organist, while his keyboard music, such as <i>The Well-Tempered Clavier</i>, was appreciated for its didactic qualities. The 19th century saw the publication of some major Bach biographies, and by the end of that century all of his known music had been printed. Dissemination of scholarship on the composer continued through periodicals and websites exclusively devoted to him, and other publications such as the <i>Bach-Werke-Verzeichnis</i> (BWV, a numbered catalogue of his works) and new critical editions of his compositions. His music was further popularised through a multitude of arrangements, including for instance the <i>Air on the G String</i>, and of recordings, for instance three different box sets with complete performances of the composer\\'s works marking the 250th anniversary of his death.\\n</p>'}}"
      ]
     },
     "execution_count": 7,
     "metadata": {},
     "output_type": "execute_result"
    }
   ],
   "source": [
    "df['query']['pages']"
   ]
  },
  {
   "cell_type": "code",
   "execution_count": 10,
   "metadata": {},
   "outputs": [
    {
     "data": {
      "text/plain": [
       "'<p class=\"mw-empty-elt\">\\n\\n\\n</p>\\n<p><b>Johann Sebastian Bach</b> (31 March\\xa0[O.S. 21 March]\\xa01685\\xa0– 28 July 1750) was a German composer and musician of the Baroque period. He is known for instrumental compositions such as the <i>Art of Fugue</i>, the <i>Brandenburg Concertos</i>, and the <i>Goldberg Variations</i> as well as for vocal music such as the <i>St\\xa0Matthew Passion</i> and the Mass in B\\xa0minor. Since the 19th-century Bach Revival he has been generally regarded as one of the greatest composers of all time.</p><p>The Bach family already counted several composers when Johann Sebastian was born as the last child of a city musician in Eisenach. After becoming an orphan at age 10, he lived for five years with his eldest brother Johann Christoph Bach, after which he continued his musical development in Lüneburg. From 1703 he was back in Thuringia, working as a musician for Protestant churches in Arnstadt and Mühlhausen and, for longer stretches of time, at courts in Weimar—where he expanded his repertoire for the organ—and Köthen—where he was mostly engaged with chamber music. From 1723 he was employed as Thomaskantor (cantor at St.\\xa0Thomas) in Leipzig. He composed music for the principal Lutheran churches of the city, and for its university\\'s student ensemble Collegium Musicum. From 1726 he published some of his keyboard and organ music. In Leipzig, as had happened in some of his earlier positions, he had a difficult relation with his employer, a situation that was little remedied when he was granted the title of court composer by King Augustus III of Poland in 1736. In the last decades of his life he reworked and extended many of his earlier compositions. He died of complications after eye surgery in 1750.\\n</p><p>Bach enriched established German styles through his mastery of counterpoint, harmonic and motivic organisation, and his adaptation of rhythms, forms, and textures from abroad, particularly from Italy and France. Bach\\'s compositions include hundreds of cantatas, both sacred and secular. He composed Latin church music, Passions, oratorios, and motets. He often adopted Lutheran hymns, not only in his larger vocal works, but for instance also in his four-part chorales and his sacred songs. He wrote extensively for organ and for other keyboard instruments. He composed concertos, for instance for violin and for harpsichord, and suites, as chamber music as well as for orchestra. Many of his works employ the genres of canon and fugue.\\n</p><p>Throughout the 18th century Bach was mostly renowned as an organist, while his keyboard music, such as <i>The Well-Tempered Clavier</i>, was appreciated for its didactic qualities. The 19th century saw the publication of some major Bach biographies, and by the end of that century all of his known music had been printed. Dissemination of scholarship on the composer continued through periodicals and websites exclusively devoted to him, and other publications such as the <i>Bach-Werke-Verzeichnis</i> (BWV, a numbered catalogue of his works) and new critical editions of his compositions. His music was further popularised through a multitude of arrangements, including for instance the <i>Air on the G String</i>, and of recordings, for instance three different box sets with complete performances of the composer\\'s works marking the 250th anniversary of his death.\\n</p>'"
      ]
     },
     "execution_count": 10,
     "metadata": {},
     "output_type": "execute_result"
    }
   ],
   "source": [
    "df['query']['pages']['9906294']['extract']"
   ]
  },
  {
   "cell_type": "code",
   "execution_count": 12,
   "metadata": {},
   "outputs": [
    {
     "data": {
      "text/html": [
       "<div>\n",
       "<style scoped>\n",
       "    .dataframe tbody tr th:only-of-type {\n",
       "        vertical-align: middle;\n",
       "    }\n",
       "\n",
       "    .dataframe tbody tr th {\n",
       "        vertical-align: top;\n",
       "    }\n",
       "\n",
       "    .dataframe thead th {\n",
       "        text-align: right;\n",
       "    }\n",
       "</style>\n",
       "<table border=\"1\" class=\"dataframe\">\n",
       "  <thead>\n",
       "    <tr style=\"text-align: right;\">\n",
       "      <th></th>\n",
       "      <th>9906294.extract</th>\n",
       "      <th>9906294.ns</th>\n",
       "      <th>9906294.pageid</th>\n",
       "      <th>9906294.title</th>\n",
       "    </tr>\n",
       "  </thead>\n",
       "  <tbody>\n",
       "    <tr>\n",
       "      <th>0</th>\n",
       "      <td>&lt;p class=\"mw-empty-elt\"&gt;\\n\\n\\n&lt;/p&gt;\\n&lt;p&gt;&lt;b&gt;Johann Sebastian Bach&lt;/b&gt; (31 March [O.S. 21 March] 1685 – 28 July 1750) was a German composer and musician of the Baroque period. He is known for instrumental compositions such as the &lt;i&gt;Art of Fugue&lt;/i&gt;, the &lt;i&gt;Brandenburg Concertos&lt;/i&gt;, and the &lt;i&gt;Goldberg Variations&lt;/i&gt; as well as for vocal music such as the &lt;i&gt;St Matthew Passion&lt;/i&gt; and the Mass in B minor. Since the 19th-century Bach Revival he has been generally regarded as one of the greatest composers of all time.&lt;/p&gt;&lt;p&gt;The Bach family already counted several composers when Johann Sebastian was born as the last child of a city musician in Eisenach. After becoming an orphan at age 10, he lived for five years with his eldest brother Johann Christoph Bach, after which he continued his musical development in Lüneburg. From 1703 he was back in Thuringia, working as a musician for Protestant churches in Arnstadt and Mühlhausen and, for longer stretches of time, at courts in Weimar—where he expanded his repertoire for the organ—and Köthen—where he was mostly engaged with chamber music. From 1723 he was employed as Thomaskantor (cantor at St. Thomas) in Leipzig. He composed music for the principal Lutheran churches of the city, and for its university's student ensemble Collegium Musicum. From 1726 he published some of his keyboard and organ music. In Leipzig, as had happened in some of his earlier positions, he had a difficult relation with his employer, a situation that was little remedied when he was granted the title of court composer by King Augustus III of Poland in 1736. In the last decades of his life he reworked and extended many of his earlier compositions. He died of complications after eye surgery in 1750.\\n&lt;/p&gt;&lt;p&gt;Bach enriched established German styles through his mastery of counterpoint, harmonic and motivic organisation, and his adaptation of rhythms, forms, and textures from abroad, particularly from Italy and France. Bach's compositions include hundreds of cantatas, both sacred and secular. He composed Latin church music, Passions, oratorios, and motets. He often adopted Lutheran hymns, not only in his larger vocal works, but for instance also in his four-part chorales and his sacred songs. He wrote extensively for organ and for other keyboard instruments. He composed concertos, for instance for violin and for harpsichord, and suites, as chamber music as well as for orchestra. Many of his works employ the genres of canon and fugue.\\n&lt;/p&gt;&lt;p&gt;Throughout the 18th century Bach was mostly renowned as an organist, while his keyboard music, such as &lt;i&gt;The Well-Tempered Clavier&lt;/i&gt;, was appreciated for its didactic qualities. The 19th century saw the publication of some major Bach biographies, and by the end of that century all of his known music had been printed. Dissemination of scholarship on the composer continued through periodicals and websites exclusively devoted to him, and other publications such as the &lt;i&gt;Bach-Werke-Verzeichnis&lt;/i&gt; (BWV, a numbered catalogue of his works) and new critical editions of his compositions. His music was further popularised through a multitude of arrangements, including for instance the &lt;i&gt;Air on the G String&lt;/i&gt;, and of recordings, for instance three different box sets with complete performances of the composer's works marking the 250th anniversary of his death.\\n&lt;/p&gt;</td>\n",
       "      <td>0</td>\n",
       "      <td>9906294</td>\n",
       "      <td>Johann Sebastian Bach</td>\n",
       "    </tr>\n",
       "  </tbody>\n",
       "</table>\n",
       "</div>"
      ],
      "text/plain": [
       "                                                                                                                                                                                                                                                                                                                                                                                                                                                                                                                                                                                                                                                                                                                                                                                                                                                                                                                                                                                                                                                                                                                                                                                                                                                                                                                                                                                                                                                                                                                                                                                                                                                                                                                                                                                                                                                                                                                                                                                                                                                                                                                                                                                                                                                                                                                                                                                                                                                                                                                                                                                                                                                                                                                                                                                                                                                                                                                                                                                                                                                                                                                                                                                                                                                                                                                                                                                                                                                                                          9906294.extract  \\\n",
       "0  <p class=\"mw-empty-elt\">\\n\\n\\n</p>\\n<p><b>Johann Sebastian Bach</b> (31 March [O.S. 21 March] 1685 – 28 July 1750) was a German composer and musician of the Baroque period. He is known for instrumental compositions such as the <i>Art of Fugue</i>, the <i>Brandenburg Concertos</i>, and the <i>Goldberg Variations</i> as well as for vocal music such as the <i>St Matthew Passion</i> and the Mass in B minor. Since the 19th-century Bach Revival he has been generally regarded as one of the greatest composers of all time.</p><p>The Bach family already counted several composers when Johann Sebastian was born as the last child of a city musician in Eisenach. After becoming an orphan at age 10, he lived for five years with his eldest brother Johann Christoph Bach, after which he continued his musical development in Lüneburg. From 1703 he was back in Thuringia, working as a musician for Protestant churches in Arnstadt and Mühlhausen and, for longer stretches of time, at courts in Weimar—where he expanded his repertoire for the organ—and Köthen—where he was mostly engaged with chamber music. From 1723 he was employed as Thomaskantor (cantor at St. Thomas) in Leipzig. He composed music for the principal Lutheran churches of the city, and for its university's student ensemble Collegium Musicum. From 1726 he published some of his keyboard and organ music. In Leipzig, as had happened in some of his earlier positions, he had a difficult relation with his employer, a situation that was little remedied when he was granted the title of court composer by King Augustus III of Poland in 1736. In the last decades of his life he reworked and extended many of his earlier compositions. He died of complications after eye surgery in 1750.\\n</p><p>Bach enriched established German styles through his mastery of counterpoint, harmonic and motivic organisation, and his adaptation of rhythms, forms, and textures from abroad, particularly from Italy and France. Bach's compositions include hundreds of cantatas, both sacred and secular. He composed Latin church music, Passions, oratorios, and motets. He often adopted Lutheran hymns, not only in his larger vocal works, but for instance also in his four-part chorales and his sacred songs. He wrote extensively for organ and for other keyboard instruments. He composed concertos, for instance for violin and for harpsichord, and suites, as chamber music as well as for orchestra. Many of his works employ the genres of canon and fugue.\\n</p><p>Throughout the 18th century Bach was mostly renowned as an organist, while his keyboard music, such as <i>The Well-Tempered Clavier</i>, was appreciated for its didactic qualities. The 19th century saw the publication of some major Bach biographies, and by the end of that century all of his known music had been printed. Dissemination of scholarship on the composer continued through periodicals and websites exclusively devoted to him, and other publications such as the <i>Bach-Werke-Verzeichnis</i> (BWV, a numbered catalogue of his works) and new critical editions of his compositions. His music was further popularised through a multitude of arrangements, including for instance the <i>Air on the G String</i>, and of recordings, for instance three different box sets with complete performances of the composer's works marking the 250th anniversary of his death.\\n</p>   \n",
       "\n",
       "   9906294.ns  9906294.pageid          9906294.title  \n",
       "0  0           9906294         Johann Sebastian Bach  "
      ]
     },
     "execution_count": 12,
     "metadata": {},
     "output_type": "execute_result"
    }
   ],
   "source": [
    "from pandas.io.json import json_normalize\n",
    "\n",
    "json_normalize(df['query']['pages'])"
   ]
  },
  {
   "cell_type": "code",
   "execution_count": null,
   "metadata": {},
   "outputs": [],
   "source": []
  }
 ],
 "metadata": {
  "kernelspec": {
   "display_name": "Python 3",
   "language": "python",
   "name": "python3"
  },
  "language_info": {
   "codemirror_mode": {
    "name": "ipython",
    "version": 3
   },
   "file_extension": ".py",
   "mimetype": "text/x-python",
   "name": "python",
   "nbconvert_exporter": "python",
   "pygments_lexer": "ipython3",
   "version": "3.7.1"
  }
 },
 "nbformat": 4,
 "nbformat_minor": 2
}
