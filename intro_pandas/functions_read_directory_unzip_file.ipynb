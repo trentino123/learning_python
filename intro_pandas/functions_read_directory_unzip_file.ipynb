{
 "cells": [
  {
   "cell_type": "code",
   "execution_count": null,
   "metadata": {},
   "outputs": [],
   "source": [
    "!dir"
   ]
  },
  {
   "cell_type": "code",
   "execution_count": null,
   "metadata": {},
   "outputs": [],
   "source": [
    "import glob, os\n",
    "file_list = [f for f in glob.glob(\"*.ipynb\")]\n",
    "print (file_list)\n"
   ]
  },
  {
   "cell_type": "code",
   "execution_count": null,
   "metadata": {
    "collapsed": true
   },
   "outputs": [],
   "source": [
    "#COMPRESS FILTERED FILES FUNCTION\n",
    "def compress(path,file_names,output_file):\n",
    "    import zlib\n",
    "    import zipfile\n",
    "    \n",
    "    print(\"File Paths:\")\n",
    "    print(file_names)\n",
    "\n",
    "    # Select the compression mode ZIP_DEFLATED for compression\n",
    "    # or zipfile.ZIP_STORED to just store the file\n",
    "    compression = zipfile.ZIP_DEFLATED\n",
    "\n",
    "    # create the zip file first parameter path/name, second mode\n",
    "    zf = zipfile.ZipFile(output_file, mode=\"w\")\n",
    "    for file_name in file_names:\n",
    "        # Add file to the zip file\n",
    "        # first parameter file to zip, second filename in zip\n",
    "        zf.write(path + file_name, file_name, compress_type=compression)\n",
    "\n",
    "    zf.close()\n",
    "    print('closing file',output_file)\n",
    "        \n"
   ]
  },
  {
   "cell_type": "code",
   "execution_count": null,
   "metadata": {},
   "outputs": [],
   "source": [
    "compress('',file_list,'compiled.zip')"
   ]
  },
  {
   "cell_type": "code",
   "execution_count": null,
   "metadata": {},
   "outputs": [],
   "source": [
    "# HOW TO UNCOMPRESS THE COMPILED .ZIP ?\n",
    "import os\n",
    "import glob\n",
    "import zipfile\n",
    "\n",
    "\n",
    "input_dir = \"\"\n",
    "output_dir = \"temp\"\n",
    "\n",
    "for arc_name in glob.iglob(os.path.join(input_dir, \"compiled.zip\")):\n",
    "    arc_dir_name = os.path.splitext(os.path.basename(arc_name))[0]\n",
    "    zf = zipfile.ZipFile(arc_name)\n",
    "    zf.extractall(path=os.path.join(input_dir, \"temp\", arc_dir_name))\n",
    "    zf.close()"
   ]
  },
  {
   "cell_type": "code",
   "execution_count": null,
   "metadata": {
    "collapsed": true
   },
   "outputs": [],
   "source": []
  }
 ],
 "metadata": {
  "kernelspec": {
   "display_name": "Python 3",
   "language": "python",
   "name": "python3"
  },
  "language_info": {
   "codemirror_mode": {
    "name": "ipython",
    "version": 3
   },
   "file_extension": ".py",
   "mimetype": "text/x-python",
   "name": "python",
   "nbconvert_exporter": "python",
   "pygments_lexer": "ipython3",
   "version": "3.6.3"
  }
 },
 "nbformat": 4,
 "nbformat_minor": 2
}
